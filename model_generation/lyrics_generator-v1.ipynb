{
 "cells": [
  {
   "cell_type": "code",
   "execution_count": 2,
   "metadata": {
    "collapsed": true
   },
   "outputs": [],
   "source": [
    "# Put these at the top of every notebook, to get automatic reloading and inline plotting\n",
    "%reload_ext autoreload\n",
    "%autoreload 2\n",
    "%matplotlib inline"
   ]
  },
  {
   "cell_type": "code",
   "execution_count": 3,
   "metadata": {
    "collapsed": true
   },
   "outputs": [],
   "source": [
    "import sys\n",
    "sys.path.append(\"/home/ubuntu/fastai/courses/dl1/fastai\")"
   ]
  },
  {
   "cell_type": "code",
   "execution_count": 4,
   "metadata": {
    "collapsed": true
   },
   "outputs": [],
   "source": [
    "# This file contains all the main external libs we'll use\n",
    "from fastai.imports import *\n",
    "from fastai.torch_imports import *\n",
    "from fastai.core import *\n",
    "from fastai.model import fit\n",
    "from fastai.dataset import *\n",
    "\n",
    "import torchtext\n",
    "from torchtext import vocab, data\n",
    "from torchtext.datasets import language_modeling\n",
    "\n",
    "from fastai.rnn_reg import *\n",
    "from fastai.rnn_train import *\n",
    "from fastai.nlp import *\n",
    "from fastai.lm_rnn import *\n",
    "\n",
    "import dill as pickle"
   ]
  },
  {
   "cell_type": "code",
   "execution_count": 5,
   "metadata": {
    "collapsed": true
   },
   "outputs": [],
   "source": [
    "PATH='/home/ubuntu/course-shortcut/competitions/lyrics_generator/'\n",
    "TRN = \"/home/ubuntu/course-shortcut/competitions/lyrics_generator/all/trn/\"\n",
    "VAL = \"/home/ubuntu/course-shortcut/competitions/lyrics_generator/all/val/\"\n"
   ]
  },
  {
   "cell_type": "code",
   "execution_count": 17,
   "metadata": {
    "collapsed": true
   },
   "outputs": [],
   "source": [
    "lyrics = pd.read_csv(\"lyrics.csv\")"
   ]
  },
  {
   "cell_type": "code",
   "execution_count": 8,
   "metadata": {},
   "outputs": [
    {
     "data": {
      "text/html": [
       "<div>\n",
       "<style>\n",
       "    .dataframe thead tr:only-child th {\n",
       "        text-align: right;\n",
       "    }\n",
       "\n",
       "    .dataframe thead th {\n",
       "        text-align: left;\n",
       "    }\n",
       "\n",
       "    .dataframe tbody tr th {\n",
       "        vertical-align: top;\n",
       "    }\n",
       "</style>\n",
       "<table border=\"1\" class=\"dataframe\">\n",
       "  <thead>\n",
       "    <tr style=\"text-align: right;\">\n",
       "      <th></th>\n",
       "      <th>index</th>\n",
       "      <th>song</th>\n",
       "      <th>year</th>\n",
       "      <th>artist</th>\n",
       "      <th>genre</th>\n",
       "      <th>lyrics</th>\n",
       "    </tr>\n",
       "  </thead>\n",
       "  <tbody>\n",
       "    <tr>\n",
       "      <th>151535</th>\n",
       "      <td>151535</td>\n",
       "      <td>perfect</td>\n",
       "      <td>2005</td>\n",
       "      <td>alice-cooper</td>\n",
       "      <td>Rock</td>\n",
       "      <td>She's an overnight sensation\\nIn the mirror on...</td>\n",
       "    </tr>\n",
       "    <tr>\n",
       "      <th>121140</th>\n",
       "      <td>121140</td>\n",
       "      <td>fleischwurstlied</td>\n",
       "      <td>1989</td>\n",
       "      <td>astrid-lindgren</td>\n",
       "      <td>Other</td>\n",
       "      <td>NaN</td>\n",
       "    </tr>\n",
       "    <tr>\n",
       "      <th>82400</th>\n",
       "      <td>82400</td>\n",
       "      <td>fanfare-darren-emerson-reprise</td>\n",
       "      <td>2016</td>\n",
       "      <td>c-jay</td>\n",
       "      <td>Electronic</td>\n",
       "      <td>NaN</td>\n",
       "    </tr>\n",
       "    <tr>\n",
       "      <th>227649</th>\n",
       "      <td>227649</td>\n",
       "      <td>i-feel-the-same</td>\n",
       "      <td>2002</td>\n",
       "      <td>bonnie-raitt</td>\n",
       "      <td>Rock</td>\n",
       "      <td>Say goodbye,\\nWell I know it's true.\\nI know y...</td>\n",
       "    </tr>\n",
       "    <tr>\n",
       "      <th>172086</th>\n",
       "      <td>172086</td>\n",
       "      <td>ladyhawke-theme</td>\n",
       "      <td>1985</td>\n",
       "      <td>andrew-powell</td>\n",
       "      <td>Rock</td>\n",
       "      <td>NaN</td>\n",
       "    </tr>\n",
       "    <tr>\n",
       "      <th>129288</th>\n",
       "      <td>129288</td>\n",
       "      <td>show-me-the-way</td>\n",
       "      <td>2006</td>\n",
       "      <td>destiny-s-child</td>\n",
       "      <td>Pop</td>\n",
       "      <td>I wanna know, if i could get to know you\\nSo m...</td>\n",
       "    </tr>\n",
       "    <tr>\n",
       "      <th>56954</th>\n",
       "      <td>56954</td>\n",
       "      <td>algorithm</td>\n",
       "      <td>2016</td>\n",
       "      <td>emmy-the-great</td>\n",
       "      <td>Indie</td>\n",
       "      <td>NaN</td>\n",
       "    </tr>\n",
       "    <tr>\n",
       "      <th>221343</th>\n",
       "      <td>221343</td>\n",
       "      <td>slow-motion</td>\n",
       "      <td>2010</td>\n",
       "      <td>cold-flamez</td>\n",
       "      <td>Hip-Hop</td>\n",
       "      <td>Hold up\\nSlow down little lady\\nI want to feel...</td>\n",
       "    </tr>\n",
       "    <tr>\n",
       "      <th>147686</th>\n",
       "      <td>147686</td>\n",
       "      <td>christenings</td>\n",
       "      <td>2007</td>\n",
       "      <td>blackfield</td>\n",
       "      <td>Rock</td>\n",
       "      <td>I met you in a record store\\nYou had slept in ...</td>\n",
       "    </tr>\n",
       "    <tr>\n",
       "      <th>122289</th>\n",
       "      <td>122289</td>\n",
       "      <td>love-for-sale</td>\n",
       "      <td>2014</td>\n",
       "      <td>donald-byrd</td>\n",
       "      <td>Jazz</td>\n",
       "      <td>NaN</td>\n",
       "    </tr>\n",
       "  </tbody>\n",
       "</table>\n",
       "</div>"
      ],
      "text/plain": [
       "         index                            song  year           artist  \\\n",
       "151535  151535                         perfect  2005     alice-cooper   \n",
       "121140  121140                fleischwurstlied  1989  astrid-lindgren   \n",
       "82400    82400  fanfare-darren-emerson-reprise  2016            c-jay   \n",
       "227649  227649                 i-feel-the-same  2002     bonnie-raitt   \n",
       "172086  172086                 ladyhawke-theme  1985    andrew-powell   \n",
       "129288  129288                 show-me-the-way  2006  destiny-s-child   \n",
       "56954    56954                       algorithm  2016   emmy-the-great   \n",
       "221343  221343                     slow-motion  2010      cold-flamez   \n",
       "147686  147686                    christenings  2007       blackfield   \n",
       "122289  122289                   love-for-sale  2014      donald-byrd   \n",
       "\n",
       "             genre                                             lyrics  \n",
       "151535        Rock  She's an overnight sensation\\nIn the mirror on...  \n",
       "121140       Other                                                NaN  \n",
       "82400   Electronic                                                NaN  \n",
       "227649        Rock  Say goodbye,\\nWell I know it's true.\\nI know y...  \n",
       "172086        Rock                                                NaN  \n",
       "129288         Pop  I wanna know, if i could get to know you\\nSo m...  \n",
       "56954        Indie                                                NaN  \n",
       "221343     Hip-Hop  Hold up\\nSlow down little lady\\nI want to feel...  \n",
       "147686        Rock  I met you in a record store\\nYou had slept in ...  \n",
       "122289        Jazz                                                NaN  "
      ]
     },
     "execution_count": 8,
     "metadata": {},
     "output_type": "execute_result"
    }
   ],
   "source": [
    "lyrics.sample(n=10)"
   ]
  },
  {
   "cell_type": "code",
   "execution_count": 9,
   "metadata": {},
   "outputs": [
    {
     "data": {
      "text/plain": [
       "0                 Pop\n",
       "249           Hip-Hop\n",
       "350     Not Available\n",
       "363             Other\n",
       "403              Rock\n",
       "415             Metal\n",
       "614           Country\n",
       "659              Jazz\n",
       "831        Electronic\n",
       "860              Folk\n",
       "1539              R&B\n",
       "1643            Indie\n",
       "Name: genre, dtype: object"
      ]
     },
     "execution_count": 9,
     "metadata": {},
     "output_type": "execute_result"
    }
   ],
   "source": [
    "lyrics['genre'].drop_duplicates()"
   ]
  },
  {
   "cell_type": "code",
   "execution_count": 10,
   "metadata": {},
   "outputs": [
    {
     "data": {
      "text/plain": [
       "33965"
      ]
     },
     "execution_count": 10,
     "metadata": {},
     "output_type": "execute_result"
    }
   ],
   "source": [
    "len(lyrics[lyrics.genre == 'Hip-Hop'])"
   ]
  },
  {
   "cell_type": "code",
   "execution_count": 14,
   "metadata": {
    "collapsed": true
   },
   "outputs": [],
   "source": [
    "def get_year_range(lyrics, start_year, end_year):\n",
    "    filtered_lyrics = lyrics[start_year < lyrics.year]\n",
    "    return filtered_lyrics[filtered_lyrics.year <= end_year]\n"
   ]
  },
  {
   "cell_type": "code",
   "execution_count": 15,
   "metadata": {},
   "outputs": [
    {
     "ename": "NameError",
     "evalue": "name 'lyrics' is not defined",
     "output_type": "error",
     "traceback": [
      "\u001b[0;31m---------------------------------------------------------------------------\u001b[0m",
      "\u001b[0;31mNameError\u001b[0m                                 Traceback (most recent call last)",
      "\u001b[0;32m<ipython-input-15-ba720045f712>\u001b[0m in \u001b[0;36m<module>\u001b[0;34m()\u001b[0m\n\u001b[0;32m----> 1\u001b[0;31m \u001b[0mhip_hop_lyrics\u001b[0m \u001b[0;34m=\u001b[0m \u001b[0mlyrics\u001b[0m\u001b[0;34m[\u001b[0m\u001b[0mlyrics\u001b[0m\u001b[0;34m.\u001b[0m\u001b[0mgenre\u001b[0m \u001b[0;34m==\u001b[0m \u001b[0;34m'Hip-Hop'\u001b[0m\u001b[0;34m]\u001b[0m\u001b[0;34m\u001b[0m\u001b[0m\n\u001b[0m\u001b[1;32m      2\u001b[0m \u001b[0mhip_hop_lyrics\u001b[0m \u001b[0;34m=\u001b[0m \u001b[0mget_year_range\u001b[0m\u001b[0;34m(\u001b[0m\u001b[0mhip_hop_lyrics\u001b[0m\u001b[0;34m,\u001b[0m \u001b[0;36m2007\u001b[0m\u001b[0;34m,\u001b[0m \u001b[0;36m2017\u001b[0m\u001b[0;34m)\u001b[0m\u001b[0;34m\u001b[0m\u001b[0m\n",
      "\u001b[0;31mNameError\u001b[0m: name 'lyrics' is not defined"
     ]
    }
   ],
   "source": [
    "hip_hop_lyrics = lyrics[lyrics.genre == 'Hip-Hop']\n",
    "hip_hop_lyrics = get_year_range(hip_hop_lyrics, 2007, 2017)"
   ]
  },
  {
   "cell_type": "code",
   "execution_count": 94,
   "metadata": {
    "collapsed": true
   },
   "outputs": [],
   "source": [
    "os.makedirs(f'{PATH}all/trn', exist_ok=True)\n",
    "os.makedirs(f'{PATH}all/val', exist_ok=True)\n",
    "os.makedirs(f'{PATH}models', exist_ok=True)"
   ]
  },
  {
   "cell_type": "code",
   "execution_count": 157,
   "metadata": {
    "scrolled": true
   },
   "outputs": [
    {
     "data": {
      "text/plain": [
       "'Hey yo man, remember that shit Eazy did a while back\\nMotherfuckers said it wasn\\'t gonna work\\nThat crazy shit, yeah the stupid shit\\nHey yo Eazy! (Yo!)\\nHey man why don\\'t you come off the piano for a minute\\nAnd bust this crazy shit\\nWoke up quick at about noon\\nJust thought that I had to be in Compton soon\\nI gotta get drunk before the day begins\\nBefore my mother starts bitchin\\' about my friends\\nAbout to go and damn near went blind\\nYoung niggaz at the pad throwin\\' up gang signs\\nRan in the house and grabbed my clip\\nWith the Mac-10 on the side of my hip\\nBailed outside and pointed my weapon\\nJust as I thought, the fools kept steppin\\'\\nJumped in the fo\\' hit the juice on my ride\\nI got front back and side to side\\nThen I let the Alpine play\\nBumpin\\' new shit by NWA\\nIt was \"Gangsta Gangsta\" at the top of the list\\nThen I played my own shit, it went somethin\\' like this\\nCruisin\\' down the street in my six-fo\\'\\nJockin\\' the bitches, slappin\\' the hoes\\nWent to the park to get the scoop\\nKnuckleheads out there cold shootin\\' some hoops\\nA car pulls up, who can it be?\\nA fresh El Camino rolled, Kilo G\\nHe rolls down his window and he started to say\\nIt\\'s all about makin\\' that GTA\\nCuz the boyz n tha hood are always hard\\nYou come talkin\\' that trash we\\'ll pull your card\\nKnowin\\' nothin\\' in life but to be legit\\nDon\\'t quote me boy, cuz I ain\\'t sayin\\' shit\\nDown on B\\'s in the place to give me the pace\\nHe said my man JB is on freebase\\nThe boy JB was a friend of mine\\nTil I caught him in my car tryin\\' to steal my Alpine\\nChased him up the street to call a truce\\nThe silly motherfucker pull out a deuce-deuce\\nLittle did he know I had a loaded 12 gauge\\nOne sucker dead, LA Times front page\\nCuz the boyz n tha hood are always hard\\nYou come talkin\\' that trash we\\'ll pull your card\\nKnowin\\' nothin\\' in life but to be legit\\nDon\\'t quote me boy, cuz I ain\\'t sayin\\' shit\\nBored as hell and I wanna get ill\\nSo I went to a spot where my homeboys chill\\nThe fellows out there, makin\\' that dollar\\nI pulled up in my 6-4 Impala\\nThey greet me with a 40 and I start drinkin\\'\\nAnd from the 8-ball my breath starts stinkin\\'\\nLeft to get my girl, to rock that body\\nBefore I left I hit the Bacardi\\nWent to her house to get her out of the pad\\nDumb hoe says something stupid that made me mad\\nShe said somethin\\' that I couldn\\'t believe\\nSo I grabbed the stupid bitch by her nappy ass weave\\nShe started talkin\\' shit, wouldn\\'t you know?\\nReached back like a pimp and slapped the hoe\\nHer father jumped up and he started to shout\\nSo I threw a right-cross and knocked his old ass out\\nCuz the boyz n tha hood are always hard\\nYou come talkin\\' that trash we\\'ll pull your card\\nKnowin\\' nothin\\' in life but to be legit\\nDon\\'t quote me boy, cuz I ain\\'t sayin\\' shit\\nI\\'m rollin\\' hard now I\\'m under control\\nThen wrapped the six-fo\\' round the telephone poll\\nI looked at my car and I said, \"Oh brother\\nI throw it in the gutter and go buy another\"\\nWalkin home and I see the G ride\\nNow Kat is drivin Kilo on the side\\nAs they busted a U, they got pulled over\\nAn undercover cop in a dark green Nova\\nKat got beat for resistin arrest\\nHe socked the pig in the head for rippin his Guess\\nNow G is cut for doin the crime\\nFor defense on the boy, he\\'ll do some time\\nCuz the boyz n tha hood are always hard\\nYou come talkin\\' that trash we\\'ll pull your card\\nKnowin\\' nothin\\' in life but to be legit\\nDon\\'t quote me boy, cuz I ain\\'t sayin\\' shit\\nI went to get them out but there was no bail\\nThe fellaz start to riot in the county jail\\nTwo days later in municipal court\\nKilo G on trial straight cold cut a fork\\n\"Disruption of the court\", said the judge\\nOn a six year sentence my man didn\\'t budge\\nBailiff came over to turn him in\\nKilo G looked up and gave a grin\\nHe yelled out \"fire!\", then came Suzi\\nThe bitch came in with a sub-machine uzi\\nPolice shot the bitch but didn\\'t hurt her\\nBoth up state for attempted murder\\nCuz the boyz n tha hood are always hard\\nYou come talkin\\' that trash we\\'ll pull your card\\nKnowin\\' nothin\\' in life but to be legit\\nDon\\'t quote me boy, cuz I ain\\'t sayin\\' shit'"
      ]
     },
     "execution_count": 157,
     "metadata": {},
     "output_type": "execute_result"
    }
   ],
   "source": [
    "a, b = next(iter(hip_hop_lyrics.iterrows()))\n",
    "b.lyrics"
   ]
  },
  {
   "cell_type": "code",
   "execution_count": 158,
   "metadata": {
    "scrolled": true
   },
   "outputs": [
    {
     "name": "stderr",
     "output_type": "stream",
     "text": [
      "/home/ubuntu/anaconda2/envs/environment.yml/lib/python3.6/site-packages/ipykernel_launcher.py:4: DeprecationWarning: `Tracer` is deprecated since version 5.1, directly use `IPython.core.debugger.Pdb.set_trace()`\n",
      "  after removing the cwd from sys.path.\n"
     ]
    },
    {
     "name": "stdout",
     "output_type": "stream",
     "text": [
      "> \u001b[0;32m<ipython-input-158-67e166955ffa>\u001b[0m(6)\u001b[0;36m<module>\u001b[0;34m()\u001b[0m\n",
      "\u001b[0;32m      3 \u001b[0;31m    \u001b[0mlyrics\u001b[0m \u001b[0;34m=\u001b[0m \u001b[0mr\u001b[0m\u001b[0;34m.\u001b[0m\u001b[0mlyrics\u001b[0m\u001b[0;34m\u001b[0m\u001b[0m\n",
      "\u001b[0m\u001b[0;32m      4 \u001b[0;31m    \u001b[0;32mfrom\u001b[0m \u001b[0mIPython\u001b[0m\u001b[0;34m.\u001b[0m\u001b[0mcore\u001b[0m\u001b[0;34m.\u001b[0m\u001b[0mdebugger\u001b[0m \u001b[0;32mimport\u001b[0m \u001b[0mTracer\u001b[0m\u001b[0;34m;\u001b[0m \u001b[0mTracer\u001b[0m\u001b[0;34m(\u001b[0m\u001b[0;34m)\u001b[0m\u001b[0;34m(\u001b[0m\u001b[0;34m)\u001b[0m\u001b[0;34m\u001b[0m\u001b[0m\n",
      "\u001b[0m\u001b[0;32m      5 \u001b[0;31m\u001b[0;34m\u001b[0m\u001b[0m\n",
      "\u001b[0m\u001b[0;32m----> 6 \u001b[0;31m    \u001b[0;32mif\u001b[0m \u001b[0misinstance\u001b[0m\u001b[0;34m(\u001b[0m\u001b[0mlyrics\u001b[0m\u001b[0;34m,\u001b[0m \u001b[0mstr\u001b[0m\u001b[0;34m)\u001b[0m \u001b[0;32mand\u001b[0m \u001b[0;32mnot\u001b[0m\u001b[0;34m(\u001b[0m\u001b[0;34m'mein'\u001b[0m \u001b[0;32min\u001b[0m \u001b[0mlyrics\u001b[0m\u001b[0;34m)\u001b[0m\u001b[0;34m:\u001b[0m\u001b[0;34m\u001b[0m\u001b[0m\n",
      "\u001b[0m\u001b[0;32m      7 \u001b[0;31m        \u001b[0mopen\u001b[0m\u001b[0;34m(\u001b[0m\u001b[0;34mf'{PATH}all/{dset}/{i}.txt'\u001b[0m\u001b[0;34m,\u001b[0m \u001b[0;34m'w'\u001b[0m\u001b[0;34m)\u001b[0m\u001b[0;34m.\u001b[0m\u001b[0mwrite\u001b[0m\u001b[0;34m(\u001b[0m\u001b[0mstr\u001b[0m\u001b[0;34m(\u001b[0m\u001b[0mlyrics\u001b[0m\u001b[0;34m)\u001b[0m\u001b[0;34m)\u001b[0m\u001b[0;34m\u001b[0m\u001b[0m\n",
      "\u001b[0m\n",
      "ipdb> lyrics\n",
      "'Hey yo man, remember that shit Eazy did a while back\\nMotherfuckers said it wasn\\'t gonna work\\nThat crazy shit, yeah the stupid shit\\nHey yo Eazy! (Yo!)\\nHey man why don\\'t you come off the piano for a minute\\nAnd bust this crazy shit\\nWoke up quick at about noon\\nJust thought that I had to be in Compton soon\\nI gotta get drunk before the day begins\\nBefore my mother starts bitchin\\' about my friends\\nAbout to go and damn near went blind\\nYoung niggaz at the pad throwin\\' up gang signs\\nRan in the house and grabbed my clip\\nWith the Mac-10 on the side of my hip\\nBailed outside and pointed my weapon\\nJust as I thought, the fools kept steppin\\'\\nJumped in the fo\\' hit the juice on my ride\\nI got front back and side to side\\nThen I let the Alpine play\\nBumpin\\' new shit by NWA\\nIt was \"Gangsta Gangsta\" at the top of the list\\nThen I played my own shit, it went somethin\\' like this\\nCruisin\\' down the street in my six-fo\\'\\nJockin\\' the bitches, slappin\\' the hoes\\nWent to the park to get the scoop\\nKnuckleheads out there cold shootin\\' some hoops\\nA car pulls up, who can it be?\\nA fresh El Camino rolled, Kilo G\\nHe rolls down his window and he started to say\\nIt\\'s all about makin\\' that GTA\\nCuz the boyz n tha hood are always hard\\nYou come talkin\\' that trash we\\'ll pull your card\\nKnowin\\' nothin\\' in life but to be legit\\nDon\\'t quote me boy, cuz I ain\\'t sayin\\' shit\\nDown on B\\'s in the place to give me the pace\\nHe said my man JB is on freebase\\nThe boy JB was a friend of mine\\nTil I caught him in my car tryin\\' to steal my Alpine\\nChased him up the street to call a truce\\nThe silly motherfucker pull out a deuce-deuce\\nLittle did he know I had a loaded 12 gauge\\nOne sucker dead, LA Times front page\\nCuz the boyz n tha hood are always hard\\nYou come talkin\\' that trash we\\'ll pull your card\\nKnowin\\' nothin\\' in life but to be legit\\nDon\\'t quote me boy, cuz I ain\\'t sayin\\' shit\\nBored as hell and I wanna get ill\\nSo I went to a spot where my homeboys chill\\nThe fellows out there, makin\\' that dollar\\nI pulled up in my 6-4 Impala\\nThey greet me with a 40 and I start drinkin\\'\\nAnd from the 8-ball my breath starts stinkin\\'\\nLeft to get my girl, to rock that body\\nBefore I left I hit the Bacardi\\nWent to her house to get her out of the pad\\nDumb hoe says something stupid that made me mad\\nShe said somethin\\' that I couldn\\'t believe\\nSo I grabbed the stupid bitch by her nappy ass weave\\nShe started talkin\\' shit, wouldn\\'t you know?\\nReached back like a pimp and slapped the hoe\\nHer father jumped up and he started to shout\\nSo I threw a right-cross and knocked his old ass out\\nCuz the boyz n tha hood are always hard\\nYou come talkin\\' that trash we\\'ll pull your card\\nKnowin\\' nothin\\' in life but to be legit\\nDon\\'t quote me boy, cuz I ain\\'t sayin\\' shit\\nI\\'m rollin\\' hard now I\\'m under control\\nThen wrapped the six-fo\\' round the telephone poll\\nI looked at my car and I said, \"Oh brother\\nI throw it in the gutter and go buy another\"\\nWalkin home and I see the G ride\\nNow Kat is drivin Kilo on the side\\nAs they busted a U, they got pulled over\\nAn undercover cop in a dark green Nova\\nKat got beat for resistin arrest\\nHe socked the pig in the head for rippin his Guess\\nNow G is cut for doin the crime\\nFor defense on the boy, he\\'ll do some time\\nCuz the boyz n tha hood are always hard\\nYou come talkin\\' that trash we\\'ll pull your card\\nKnowin\\' nothin\\' in life but to be legit\\nDon\\'t quote me boy, cuz I ain\\'t sayin\\' shit\\nI went to get them out but there was no bail\\nThe fellaz start to riot in the county jail\\nTwo days later in municipal court\\nKilo G on trial straight cold cut a fork\\n\"Disruption of the court\", said the judge\\nOn a six year sentence my man didn\\'t budge\\nBailiff came over to turn him in\\nKilo G looked up and gave a grin\\nHe yelled out \"fire!\", then came Suzi\\nThe bitch came in with a sub-machine uzi\\nPolice shot the bitch but didn\\'t hurt her\\nBoth up state for attempted murder\\nCuz the boyz n tha hood are always hard\\nYou come talkin\\' that trash we\\'ll pull your card\\nKnowin\\' nothin\\' in life but to be legit\\nDon\\'t quote me boy, cuz I ain\\'t sayin\\' shit'\n",
      "ipdb> exit!\n",
      "Exiting Debugger.\n"
     ]
    }
   ],
   "source": [
    "for (i,(_,r)) in enumerate(hip_hop_lyrics.iterrows()):\n",
    "    dset = 'trn' if random.random()>0.1 else 'val'\n",
    "    lyrics = r.lyrics\n",
    "    from IPython.core.debugger import Tracer; Tracer()()\n",
    "\n",
    "    if isinstance(lyrics, str) and not('mein' in lyrics):\n",
    "        open(f'{PATH}all/{dset}/{i}.txt', 'w').write(str(lyrics))"
   ]
  },
  {
   "cell_type": "code",
   "execution_count": 20,
   "metadata": {},
   "outputs": [
    {
     "data": {
      "text/plain": [
       "['0.txt',\n",
       " '10000.txt',\n",
       " '10001.txt',\n",
       " '10002.txt',\n",
       " '10005.txt',\n",
       " '10007.txt',\n",
       " '10008.txt',\n",
       " '10009.txt',\n",
       " '10011.txt',\n",
       " '10012.txt']"
      ]
     },
     "execution_count": 20,
     "metadata": {},
     "output_type": "execute_result"
    }
   ],
   "source": [
    "trn_files = !ls {TRN}\n",
    "trn_files[:10]"
   ]
  },
  {
   "cell_type": "code",
   "execution_count": 39,
   "metadata": {
    "collapsed": true
   },
   "outputs": [],
   "source": [
    "from spacy.symbols import ORTH\n",
    "\n",
    "my_tok = spacy.load('en')\n",
    "def my_spacy_tok(x): return [tok.text for tok in my_tok.tokenizer(x)]\n",
    "\n",
    "my_tok.tokenizer.add_special_case('\\n', [{ORTH: '<NEWLINE>'}])"
   ]
  },
  {
   "cell_type": "code",
   "execution_count": 5,
   "metadata": {
    "collapsed": true
   },
   "outputs": [],
   "source": [
    "bs=64\n",
    "bptt=300 #backpropogate through time: number of words it'll remember"
   ]
  },
  {
   "cell_type": "code",
   "execution_count": 8,
   "metadata": {},
   "outputs": [
    {
     "ename": "NameError",
     "evalue": "name 'my_spacy_tok' is not defined",
     "output_type": "error",
     "traceback": [
      "\u001b[0;31m---------------------------------------------------------------------------\u001b[0m",
      "\u001b[0;31mNameError\u001b[0m                                 Traceback (most recent call last)",
      "\u001b[0;32m<ipython-input-8-e53a340d1c2c>\u001b[0m in \u001b[0;36m<module>\u001b[0;34m()\u001b[0m\n\u001b[0;32m----> 1\u001b[0;31m \u001b[0mTEXT\u001b[0m \u001b[0;34m=\u001b[0m \u001b[0mdata\u001b[0m\u001b[0;34m.\u001b[0m\u001b[0mField\u001b[0m\u001b[0;34m(\u001b[0m\u001b[0mlower\u001b[0m\u001b[0;34m=\u001b[0m\u001b[0;32mTrue\u001b[0m\u001b[0;34m,\u001b[0m \u001b[0mtokenize\u001b[0m\u001b[0;34m=\u001b[0m\u001b[0mmy_spacy_tok\u001b[0m\u001b[0;34m)\u001b[0m\u001b[0;34m\u001b[0m\u001b[0m\n\u001b[0m\u001b[1;32m      2\u001b[0m \u001b[0mFILES\u001b[0m \u001b[0;34m=\u001b[0m \u001b[0mdict\u001b[0m\u001b[0;34m(\u001b[0m\u001b[0mtrain\u001b[0m\u001b[0;34m=\u001b[0m\u001b[0mTRN\u001b[0m\u001b[0;34m,\u001b[0m \u001b[0mvalidation\u001b[0m\u001b[0;34m=\u001b[0m\u001b[0mVAL\u001b[0m\u001b[0;34m,\u001b[0m \u001b[0mtest\u001b[0m\u001b[0;34m=\u001b[0m\u001b[0mVAL\u001b[0m\u001b[0;34m)\u001b[0m\u001b[0;34m\u001b[0m\u001b[0m\n\u001b[1;32m      3\u001b[0m \u001b[0mmd\u001b[0m \u001b[0;34m=\u001b[0m \u001b[0mLanguageModelData\u001b[0m\u001b[0;34m(\u001b[0m\u001b[0mPATH\u001b[0m\u001b[0;34m,\u001b[0m \u001b[0mTEXT\u001b[0m\u001b[0;34m,\u001b[0m \u001b[0;34m**\u001b[0m\u001b[0mFILES\u001b[0m\u001b[0;34m,\u001b[0m \u001b[0mbs\u001b[0m\u001b[0;34m=\u001b[0m\u001b[0mbs\u001b[0m\u001b[0;34m,\u001b[0m \u001b[0mbptt\u001b[0m\u001b[0;34m=\u001b[0m\u001b[0mbptt\u001b[0m\u001b[0;34m,\u001b[0m \u001b[0mmin_freq\u001b[0m\u001b[0;34m=\u001b[0m\u001b[0;36m10\u001b[0m\u001b[0;34m)\u001b[0m\u001b[0;34m\u001b[0m\u001b[0m\n",
      "\u001b[0;31mNameError\u001b[0m: name 'my_spacy_tok' is not defined"
     ]
    }
   ],
   "source": [
    "TEXT = data.Field(lower=True, tokenize=my_spacy_tok)\n",
    "FILES = dict(train=TRN, validation=VAL, test=VAL)\n",
    "md = LanguageModelData(PATH, TEXT, **FILES, bs=bs, bptt=bptt, min_freq=10)\n",
    "pickle.dump(TEXT, open(f'{PATH}models/TEXT.pkl','wb'))"
   ]
  },
  {
   "cell_type": "code",
   "execution_count": 6,
   "metadata": {
    "collapsed": true
   },
   "outputs": [],
   "source": [
    "bs=64\n",
    "bptt=200 #backpropogate through time: number of words it'll remember\n",
    "from spacy.symbols import ORTH\n",
    "my_tok = spacy.load('en')\n",
    "TEXT = pickle.load(open('/home/ubuntu/course-shortcut/competitions/lyrics_generator/models/TEXT.pkl', 'rb'))\n",
    "FILES = dict(train=TRN, validation=VAL, test=VAL)\n",
    "md = LanguageModelData(PATH, TEXT, **FILES, bs=bs, bptt=bptt, min_freq=10)"
   ]
  },
  {
   "cell_type": "code",
   "execution_count": 21,
   "metadata": {},
   "outputs": [
    {
     "data": {
      "text/plain": [
       "(315, 16745, 1, 6074427)"
      ]
     },
     "execution_count": 21,
     "metadata": {},
     "output_type": "execute_result"
    }
   ],
   "source": [
    "len(md.trn_dl), md.nt, len(md.trn_ds), len(md.trn_ds[0].text)"
   ]
  },
  {
   "cell_type": "markdown",
   "metadata": {},
   "source": [
    "### TRAINING "
   ]
  },
  {
   "cell_type": "code",
   "execution_count": 8,
   "metadata": {
    "collapsed": true
   },
   "outputs": [],
   "source": [
    "em_sz = 200",
    "nh = 500 ",
    "nl = 3",
    "optimization_function = partial(optim.Adam, betas=(0.7, 0.99))"
   ]
  },
  {
   "cell_type": "code",
   "execution_count": 9,
   "metadata": {
    "collapsed": true
   },
   "outputs": [],
   "source": [
    "learner = md.get_model(optimization_function, em_sz, nh, nl,\n",
    "    dropout=0.05, dropouth=0.1, dropouti=0.05, dropoute=0.02, wdrop=0.2)\n",
    "learner.reg_fn = partial(seq2seq_reg, alpha=2, beta=1)\n"
   ]
  },
  {
   "cell_type": "code",
   "execution_count": 14,
   "metadata": {
    "scrolled": true
   },
   "outputs": [
    {
     "name": "stderr",
     "output_type": "stream",
     "text": [
      "Widget Javascript not detected.  It may not be installed or enabled properly.\n"
     ]
    },
    {
     "data": {
      "application/vnd.jupyter.widget-view+json": {
       "model_id": "8535278fd2bd438e8da3fb21b866e064"
      }
     },
     "metadata": {},
     "output_type": "display_data"
    },
    {
     "name": "stdout",
     "output_type": "stream",
     "text": [
      "[ 0.       5.23085  5.1033 ]                                \n",
      "\n"
     ]
    }
   ],
   "source": [
    "learner.clip=0.5\n",
    "learner.fit(3e-3, 1, wds=1e-6)"
   ]
  },
  {
   "cell_type": "code",
   "execution_count": 15,
   "metadata": {},
   "outputs": [
    {
     "ename": "NameError",
     "evalue": "name 'sample_model' is not defined",
     "output_type": "error",
     "traceback": [
      "\u001b[0;31m---------------------------------------------------------------------------\u001b[0m",
      "\u001b[0;31mNameError\u001b[0m                                 Traceback (most recent call last)",
      "\u001b[0;32m<ipython-input-15-5527c14a182c>\u001b[0m in \u001b[0;36m<module>\u001b[0;34m()\u001b[0m\n\u001b[0;32m----> 1\u001b[0;31m \u001b[0msample_model\u001b[0m\u001b[0;34m(\u001b[0m\u001b[0mlearner\u001b[0m\u001b[0;34m.\u001b[0m\u001b[0mmodel\u001b[0m\u001b[0;34m,\u001b[0m \u001b[0;34m\"what\"\u001b[0m\u001b[0;34m,\u001b[0m \u001b[0ml\u001b[0m\u001b[0;34m=\u001b[0m\u001b[0;36m200\u001b[0m\u001b[0;34m)\u001b[0m\u001b[0;34m\u001b[0m\u001b[0m\n\u001b[0m",
      "\u001b[0;31mNameError\u001b[0m: name 'sample_model' is not defined"
     ]
    }
   ],
   "source": [
    "sample_model(learner.model, \"what\", l=200)"
   ]
  },
  {
   "cell_type": "code",
   "execution_count": 18,
   "metadata": {},
   "outputs": [
    {
     "name": "stderr",
     "output_type": "stream",
     "text": [
      "Widget Javascript not detected.  It may not be installed or enabled properly.\n"
     ]
    },
    {
     "data": {
      "application/vnd.jupyter.widget-view+json": {
       "model_id": "b01662163c324ada94f191b20c989149"
      }
     },
     "metadata": {},
     "output_type": "display_data"
    },
    {
     "name": "stdout",
     "output_type": "stream",
     "text": [
      "[ 0.       4.85287  4.77611]                                \n",
      "\n"
     ]
    }
   ],
   "source": [
    "learner.clip=0.5\n",
    "learner.fit(3e-3, 1, wds=1e-6)"
   ]
  },
  {
   "cell_type": "code",
   "execution_count": 19,
   "metadata": {},
   "outputs": [
    {
     "name": "stdout",
     "output_type": "stream",
     "text": [
      "...you want , what you want , what you want , what you want , what you want , what you want , what you want , what you want , what you want , what you want , what you want , what you want , what you want , what you want , what you want , what you want , what you want , what you want , what you want , what you want , what you want , what you want , what you want , what you want , what you want , what you want , what you want , what you want , what you want , what you want , what you want , what you want , what you want , what you want , what you want , what you want , what you want , what you want , what you want , what you want , what you want , what you want , what you want , what you want , what you want , what you want , what you want , what you want , what you want , what you want , what "
     ]
    }
   ],
   "source": [
    "sample_model(learner.model, \"what\", l=200)"
   ]
  },
  {
   "cell_type": "code",
   "execution_count": 20,
   "metadata": {},
   "outputs": [
    {
     "name": "stderr",
     "output_type": "stream",
     "text": [
      "Widget Javascript not detected.  It may not be installed or enabled properly.\n"
     ]
    },
    {
     "data": {
      "application/vnd.jupyter.widget-view+json": {
       "model_id": "79a5d2802ceb4b3d97e11e6468c80cd0"
      }
     },
     "metadata": {},
     "output_type": "display_data"
    },
    {
     "name": "stdout",
     "output_type": "stream",
     "text": [
      "[ 0.       4.66829  4.64223]                                \n",
      "\n"
     ]
    }
   ],
   "source": [
    "learner.clip=0.3\n",
    "learner.fit(3e-3, 1, wds=1e-6)"
   ]
  },
  {
   "cell_type": "code",
   "execution_count": 31,
   "metadata": {},
   "outputs": [
    {
     "name": "stdout",
     "output_type": "stream",
     "text": [
      "...is waiting see you lost man , do n't act scared i said , but that 's right here , cause you 're built with played real , baby once 's a second wheeler , - cu - eh punk hoe . all i want was a beating back donald kelly on the departed palms all in my ear with a bedroom in the air , fiends cuff me me and me with leg land , from a have to call yo , i used to see myself flip the pool up till i 'm clearing trick , double bear caine , my niggas givin me for sack a challenge [ chorus ] you have kill me , leave me , remember spaced off totem , michael houses and was n't somehow pay hold on you teach <unk> for a hood again , high joints shooting toes after the sun , shout chill to my breath hey , stil used to confusin lyrics from the advance till i drop your streets forget you high man coz pressure sounds like a little ripper stuff ven tuesday , sings od tec eh pen , gras and <unk> cigarettes they do n't make "
     ]
    }
   ],
   "source": [
    "sample_model(learner.model, \"I know the mark's high, butterflies rip apart my stomach\", l=200)"
   ]
  },
  {
   "cell_type": "code",
   "execution_count": 32,
   "metadata": {
    "collapsed": true
   },
   "outputs": [],
   "source": [
    "learner.save(\"em_saved_12_50\")"
   ]
  },
  {
   "cell_type": "code",
   "execution_count": 29,
   "metadata": {
    "collapsed": true
   },
   "outputs": [],
   "source": [
    "# learner.load('em_200_11_24')\n",
    "\n",
    "def proc_str(s): return TEXT.preprocess(TEXT.tokenize(s))\n",
    "def num_str(s): return TEXT.numericalize([proc_str(s)])\n",
    "model=learner.model\n",
    "\n",
    "def sample_model(m, s, l=50):\n",
    "    t = num_str(s)\n",
    "    m[0].bs=1\n",
    "    m.eval()\n",
    "    m.reset()\n",
    "    res,*_ = m(t)\n",
    "    print('...', end='')\n",
    "\n",
    "    \n",
    "\n",
    "    for i in range(l):\n",
    "        pred = res\n",
    "        pred_last_prob = pred[-1].exp() / pred[-1].exp().sum()    \n",
    "        # Randomly sample one word\n",
    "        n = torch.multinomial(pred_last_prob, 1)\n",
    "#         print(TEXT.vocab.itos[pred_last_choice.data[0]])\n",
    "#         n=res[-1].topk(2)[1]\n",
    "#         n = n[1] if n.data[0]==0 else n[0]\n",
    "        word = TEXT.vocab.itos[n.data[0]]\n",
    "        print(word, end=' ')\n",
    "        if word=='<eos>': break\n",
    "        res,*_ = m(n[0].unsqueeze(0))\n",
    "\n",
    "    m[0].bs=bs"
   ]
  },
  {
   "cell_type": "code",
   "execution_count": 12,
   "metadata": {},
   "outputs": [
    {
     "name": "stderr",
     "output_type": "stream",
     "text": [
      "Widget Javascript not detected.  It may not be installed or enabled properly.\n"
     ]
    },
    {
     "data": {
      "application/vnd.jupyter.widget-view+json": {
       "model_id": "54c2d6fbeaf64ae5b010b7efb18861af"
      }
     },
     "metadata": {},
     "output_type": "display_data"
    },
    {
     "name": "stdout",
     "output_type": "stream",
     "text": [
      "[ 0.       4.73076  4.73163]                                \n",
      "\n"
     ]
    }
   ],
   "source": [
    "learner.fit(3e-4, 1, wds=1e-6)"
   ]
  },
  {
   "cell_type": "code",
   "execution_count": 13,
   "metadata": {},
   "outputs": [
    {
     "name": "stdout",
     "output_type": "stream",
     "text": [
      "...is on my mind , i 'm a make you know i 'm a make you know i 'm a make you feel like i 'm a get it , i 'm a get it , i 'm a get it , i 'm a get it , i 'm a get it , i 'm a get it , i 'm a get it , i 'm a get it , i 'm a get it , i 'm a get it , i 'm a get it , i 'm a get it , i 'm a get it , i 'm a get it , i 'm a get it , i 'm a get it , i 'm a get it , i 'm a get it , i 'm a get it , i 'm a get it , i 'm a get it , i 'm a get it , i 'm a get it , i 'm a get it , i 'm a get it , i 'm a get it , i 'm a get it , i 'm a get it , i 'm a get it , i 'm "
     ]
    }
   ],
   "source": [
    "sample_model(learner.model, \"I know the mark's high, butterflies rip apart my stomach\", l=200)"
   ]
  },
  {
   "cell_type": "code",
   "execution_count": 9,
   "metadata": {
    "collapsed": true
   },
   "outputs": [],
   "source": [
    "em_sz = 500",
    "nh = 500",
    "nl = 3",
    "\n",
    "optimization_function = partial(optim.Adam, betas=(0.7, 0.99))\n",
    "learner = md.get_model(optimization_function, em_sz, nh, nl,\n",
    "    dropout=0.05, dropouth=0.1, dropouti=0.05, dropoute=0.02, wdrop=0.2)\n",
    "learner.reg_fn = partial(seq2seq_reg, alpha=2, beta=1)"
   ]
  },
  {
   "cell_type": "code",
   "execution_count": 10,
   "metadata": {},
   "outputs": [
    {
     "name": "stderr",
     "output_type": "stream",
     "text": [
      "Widget Javascript not detected.  It may not be installed or enabled properly.\n"
     ]
    },
    {
     "data": {
      "application/vnd.jupyter.widget-view+json": {
       "model_id": "2ac2643bce03412e8549c2ece2e354b9"
      }
     },
     "metadata": {},
     "output_type": "display_data"
    },
    {
     "name": "stdout",
     "output_type": "stream",
     "text": [
      "[ 0.       4.92101  4.8376 ]                                \n",
      "\n"
     ]
    }
   ],
   "source": [
    "learner.clip=0.3\n",
    "learner.fit(3e-3, 1, wds=1e-6)"
   ]
  },
  {
   "cell_type": "code",
   "execution_count": 18,
   "metadata": {},
   "outputs": [
    {
     "name": "stdout",
     "output_type": "stream",
     "text": [
      "...can you get it ? i 'm a get it back , i 'm a get it back , i 'm a get it back , i 'm a get it back , i 'm a get it back , i 'm a get it back , i 'm a get it back , i 'm a get it back , i 'm a get it back , i 'm a get it back , i 'm a get it back , i 'm a get it back , i 'm a get it back , i 'm a get it back , i 'm a get it back , i 'm a get it back , i 'm a get it back , i 'm a get it back , i 'm a get it back , i 'm a get it back , i 'm a get it back , i 'm a get it back , i 'm a get it back , i 'm a get it back , i 'm a get it back , i 'm a get it back , i 'm a get it back , i 'm a get it back "
     ]
    }
   ],
   "source": [
    "sample_model(learner.model, \"when how\", l=200)"
   ]
  },
  {
   "cell_type": "code",
   "execution_count": 19,
   "metadata": {
    "collapsed": true
   },
   "outputs": [],
   "source": [
    "learner.save(\"em_size_500_bs_32\")"
   ]
  },
  {
   "cell_type": "code",
   "execution_count": 20,
   "metadata": {},
   "outputs": [
    {
     "name": "stderr",
     "output_type": "stream",
     "text": [
      "Widget Javascript not detected.  It may not be installed or enabled properly.\n"
     ]
    },
    {
     "data": {
      "application/vnd.jupyter.widget-view+json": {
       "model_id": "725c30fd4be84858a80d5e6001339e38"
      }
     },
     "metadata": {},
     "output_type": "display_data"
    },
    {
     "name": "stdout",
     "output_type": "stream",
     "text": [
      "[ 0.       4.60375  4.584  ]                                \n",
      "\n"
     ]
    }
   ],
   "source": [
    "learner.clip=0.3\n",
    "learner.fit(3e-3, 1, wds=1e-7)"
   ]
  },
  {
   "cell_type": "code",
   "execution_count": 23,
   "metadata": {},
   "outputs": [
    {
     "name": "stdout",
     "output_type": "stream",
     "text": [
      "...to get it right , i 'm a get it right , i 'm a get it right i 'm a get it right , i 'm a get it right i 'm a get it right , get it right , get it right now i 'm a get it right , get it right now i 'm a get it right , get it right now i 'm a get it right , get it right now i 'm a get it right , get it right now i 'm a get it right , get it right now i 'm a get it right , get it right now i 'm a get it right , get it right now i 'm a get it right now i 'm a get it right now i 'm a get it right now i 'm a get it right now i 'm a get it right now i 'm a get it right now i 'm a get it right now i 'm a get it right now i 'm a get it right now i 'm a get it right now i 'm a get it right now "
     ]
    }
   ],
   "source": [
    "sample_model(learner.model, \"I like\", l=200)"
   ]
  },
  {
   "cell_type": "code",
   "execution_count": 11,
   "metadata": {
    "collapsed": true
   },
   "outputs": [],
   "source": [
    "def proc_str(s): return TEXT.preprocess(TEXT.tokenize(s))\n",
    "def num_str(s): return TEXT.numericalize([proc_str(s)])\n",
    "model=learner.model\n",
    "s=\"hello\""
   ]
  },
  {
   "cell_type": "code",
   "execution_count": 12,
   "metadata": {},
   "outputs": [
    {
     "name": "stderr",
     "output_type": "stream",
     "text": [
      "Widget Javascript not detected.  It may not be installed or enabled properly.\n"
     ]
    },
    {
     "data": {
      "application/vnd.jupyter.widget-view+json": {
       "model_id": "7f609ff388eb40fba35156d34bc2c806"
      }
     },
     "metadata": {},
     "output_type": "display_data"
    },
    {
     "name": "stdout",
     "output_type": "stream",
     "text": [
      "[ 0.       3.95085  4.23278]                                \n",
      "\n"
     ]
    }
   ],
   "source": [
    "learner.fit(3e-3, 1, wds=1e-6)"
   ]
  },
  {
   "cell_type": "code",
   "execution_count": 12,
   "metadata": {
    "collapsed": true
   },
   "outputs": [],
   "source": [
    "def sample_model(m, s, l=50):\n",
    "    t = num_str(s)\n",
    "    m[0].bs=1\n",
    "    m.eval()\n",
    "    m.reset()\n",
    "    res,*_ = m(t)\n",
    "    print('...', end='')\n",
    "\n",
    "    for i in range(l):\n",
    "        n=res[-1].topk(2)[1]\n",
    "        n = n[1] if n.data[0]==0 else n[0]\n",
    "        word = TEXT.vocab.itos[n.data[0]]\n",
    "        print(word, end=' ')\n",
    "        if word=='<eos>': break\n",
    "        res,*_ = m(n[0].unsqueeze(0))\n",
    "\n",
    "    m[0].bs=bs"
   ]
  },
  {
   "cell_type": "code",
   "execution_count": 13,
   "metadata": {},
   "outputs": [
    {
     "name": "stdout",
     "output_type": "stream",
     "text": [
      "...i 'm a , i 'm a , i 'm a , i 'm a , i 'm a , i 'm a , i 'm a , i 'm a , i 'm a , i 'm a , i 'm a , i 'm a , i 'm a , i 'm a , i 'm a , i 'm a , i 'm a , i 'm a , i 'm a , i 'm a , i 'm a , i 'm a , i 'm a , i 'm a , i 'm a , i 'm a , i 'm a , i 'm a , i 'm a , i 'm a , i 'm a , i 'm a , i 'm a , i 'm a , i 'm a , i 'm a , i 'm a , i 'm a , i 'm a , i 'm a , i 'm a , i 'm a , i 'm a , i 'm a , i 'm a , i 'm a , i 'm a , i 'm a , i 'm a , i 'm a , "
     ]
    }
   ],
   "source": [
    "sample_model(model, \"test\", l=200)"
   ]
  },
  {
   "cell_type": "markdown",
   "metadata": {
    "collapsed": true
   },
   "source": [
    "### TESTING"
   ]
  },
  {
   "cell_type": "code",
   "execution_count": 119,
   "metadata": {},
   "outputs": [
    {
     "data": {
      "text/plain": [
       "\"I 'm beginning to feel like a Rap God , Rap God\""
      ]
     },
     "execution_count": 119,
     "metadata": {},
     "output_type": "execute_result"
    }
   ],
   "source": [
    "model=learner.model\n",
    "ss=\"I'm beginning to feel like a Rap God, Rap God \"\n",
    "s = [spacy_tok(ss)]\n",
    "input_text=TEXT.numericalize(s)\n",
    "' '.join(s[0])"
   ]
  },
  {
   "cell_type": "code",
   "execution_count": 130,
   "metadata": {
    "collapsed": true
   },
   "outputs": [],
   "source": [
    "# Set batch size to 1\n",
    "model[0].bs=1\n",
    "# Turn off dropout\n",
    "model.eval()\n",
    "# Reset hidden state\n",
    "model.reset()\n",
    "# Get predictions from model\n",
    "results,*_ = model(input_text)\n",
    "# Put the batch size back to what it was\n",
    "model[0].bs=bs"
   ]
  },
  {
   "cell_type": "code",
   "execution_count": 133,
   "metadata": {},
   "outputs": [
    {
     "data": {
      "text/plain": [
       "['<unk>']"
      ]
     },
     "execution_count": 133,
     "metadata": {},
     "output_type": "execute_result"
    }
   ],
   "source": [
    "nexts = torch.topk(results[-1], 1)[1]\n",
    "[TEXT.vocab.itos[o] for o in to_np(nexts)]"
   ]
  },
  {
   "cell_type": "code",
   "execution_count": 134,
   "metadata": {},
   "outputs": [
    {
     "data": {
      "text/plain": [
       "array([0])"
      ]
     },
     "execution_count": 134,
     "metadata": {},
     "output_type": "execute_result"
    }
   ],
   "source": [
    "to_np(nexts)"
   ]
  },
  {
   "cell_type": "code",
   "execution_count": null,
   "metadata": {
    "collapsed": true
   },
   "outputs": [],
   "source": []
  },
  {
   "cell_type": "code",
   "execution_count": 140,
   "metadata": {},
   "outputs": [
    {
     "data": {
      "text/plain": [
       "<bound method Variable.topk of Variable containing:\n",
       " 7.6864\n",
       "-2.8855\n",
       " 7.2407\n",
       "   ⋮   \n",
       "-2.5771\n",
       "-2.5315\n",
       "-2.5787\n",
       "[torch.cuda.FloatTensor of size 16745 (GPU 0)]\n",
       ">"
      ]
     },
     "execution_count": 140,
     "metadata": {},
     "output_type": "execute_result"
    }
   ],
   "source": [
    "results[-1].topk"
   ]
  },
  {
   "cell_type": "code",
   "execution_count": 137,
   "metadata": {},
   "outputs": [
    {
     "name": "stdout",
     "output_type": "stream",
     "text": [
      "I'm beginning to feel like a Rap God, Rap God  \n",
      "\n",
      ", i 'm a beast , i 'm a beast , i 'm a beast , i 'm a beast , i 'm a beast , i 'm a beast , i 'm a beast , i 'm a beast , i 'm a beast , i 'm a beast , i 'm a beast , i 'm a beast , i 'm a beast , i 'm a beast , i 'm a beast , i 'm a beast , i 'm a beast , i 'm a beast , i 'm a beast , i 'm a beast ...\n"
     ]
    }
   ],
   "source": [
    "print(ss,\"\\n\")\n",
    "# nexts = torch.topk(res[-1], 30)[1]\n",
    "# [TEXT.vocab.itos[o] for o in to_np(nexts)]\n",
    "previous_inputs = ss\n",
    "for i in range(100):\n",
    "    n=results[-1].topk(2)[1]\n",
    "    n = n[1] if n.data[0]==0 else n[0]\n",
    "    print(TEXT.vocab.itos[n.data[0]], end=' ')\n",
    "    res,*_ = model(n[0].unsqueeze(0))\n",
    "print('...')"
   ]
  },
  {
   "cell_type": "code",
   "execution_count": null,
   "metadata": {
    "collapsed": true
   },
   "outputs": [],
   "source": []
  }
 ],
 "metadata": {
  "kernelspec": {
   "display_name": "Python 3",
   "language": "python",
   "name": "python3"
  },
  "language_info": {
   "codemirror_mode": {
    "name": "ipython",
    "version": 3
   },
   "file_extension": ".py",
   "mimetype": "text/x-python",
   "name": "python",
   "nbconvert_exporter": "python",
   "pygments_lexer": "ipython3",
   "version": "3.6.4"
  }
 },
 "nbformat": 4,
 "nbformat_minor": 2
}
